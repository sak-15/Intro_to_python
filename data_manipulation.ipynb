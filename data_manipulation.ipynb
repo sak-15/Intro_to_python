{
 "cells": [
  {
   "cell_type": "markdown",
   "metadata": {},
   "source": [
    "## Data Manipulation"
   ]
  },
  {
   "cell_type": "code",
   "execution_count": 2,
   "metadata": {},
   "outputs": [],
   "source": [
    "import pandas as pd\n",
    "import numpy as np"
   ]
  },
  {
   "cell_type": "code",
   "execution_count": 3,
   "metadata": {},
   "outputs": [
    {
     "data": {
      "text/html": [
       "<div>\n",
       "<style scoped>\n",
       "    .dataframe tbody tr th:only-of-type {\n",
       "        vertical-align: middle;\n",
       "    }\n",
       "\n",
       "    .dataframe tbody tr th {\n",
       "        vertical-align: top;\n",
       "    }\n",
       "\n",
       "    .dataframe thead th {\n",
       "        text-align: right;\n",
       "    }\n",
       "</style>\n",
       "<table border=\"1\" class=\"dataframe\">\n",
       "  <thead>\n",
       "    <tr style=\"text-align: right;\">\n",
       "      <th></th>\n",
       "      <th>Date</th>\n",
       "      <th>Time (utc)</th>\n",
       "      <th>Region</th>\n",
       "      <th>Magnitude</th>\n",
       "      <th>Depth (km)</th>\n",
       "      <th>Latitude</th>\n",
       "      <th>Longitude</th>\n",
       "      <th>Mode</th>\n",
       "      <th>Map</th>\n",
       "    </tr>\n",
       "  </thead>\n",
       "  <tbody>\n",
       "    <tr>\n",
       "      <th>0</th>\n",
       "      <td>2024-06-23</td>\n",
       "      <td>04:51:49</td>\n",
       "      <td>Mindanao, Philippine</td>\n",
       "      <td>4.8</td>\n",
       "      <td>342</td>\n",
       "      <td>8.01N</td>\n",
       "      <td>125.20E</td>\n",
       "      <td>A</td>\n",
       "      <td>-</td>\n",
       "    </tr>\n",
       "    <tr>\n",
       "      <th>1</th>\n",
       "      <td>2024-06-23</td>\n",
       "      <td>03:58:03</td>\n",
       "      <td>Near Coast of Venezuela</td>\n",
       "      <td>5.9</td>\n",
       "      <td>105</td>\n",
       "      <td>10.80N</td>\n",
       "      <td>62.65W</td>\n",
       "      <td>A</td>\n",
       "      <td>-</td>\n",
       "    </tr>\n",
       "    <tr>\n",
       "      <th>2</th>\n",
       "      <td>2024-06-23</td>\n",
       "      <td>03:12:08</td>\n",
       "      <td>Near East Coast of Honshu, japan</td>\n",
       "      <td>5.0</td>\n",
       "      <td>55</td>\n",
       "      <td>37.16N</td>\n",
       "      <td>141.09E</td>\n",
       "      <td>A</td>\n",
       "      <td>-</td>\n",
       "    </tr>\n",
       "    <tr>\n",
       "      <th>3</th>\n",
       "      <td>2024-06-22</td>\n",
       "      <td>20:46:51</td>\n",
       "      <td>Near Coast of Peru</td>\n",
       "      <td>5.3</td>\n",
       "      <td>64</td>\n",
       "      <td>15.79S</td>\n",
       "      <td>74.47W</td>\n",
       "      <td>A</td>\n",
       "      <td>-</td>\n",
       "    </tr>\n",
       "    <tr>\n",
       "      <th>4</th>\n",
       "      <td>2024-06-22</td>\n",
       "      <td>18:08:44</td>\n",
       "      <td>Afghanistan-Tajikistan Border Region</td>\n",
       "      <td>3.8</td>\n",
       "      <td>179</td>\n",
       "      <td>36.36N</td>\n",
       "      <td>71.45E</td>\n",
       "      <td>M</td>\n",
       "      <td>-</td>\n",
       "    </tr>\n",
       "  </tbody>\n",
       "</table>\n",
       "</div>"
      ],
      "text/plain": [
       "        Date Time (utc)                                Region  Magnitude  \\\n",
       "0 2024-06-23   04:51:49                  Mindanao, Philippine        4.8   \n",
       "1 2024-06-23   03:58:03               Near Coast of Venezuela        5.9   \n",
       "2 2024-06-23   03:12:08      Near East Coast of Honshu, japan        5.0   \n",
       "3 2024-06-22   20:46:51                    Near Coast of Peru        5.3   \n",
       "4 2024-06-22   18:08:44  Afghanistan-Tajikistan Border Region        3.8   \n",
       "\n",
       "   Depth (km) Latitude Longitude Mode Map  \n",
       "0         342    8.01N   125.20E    A   -  \n",
       "1         105   10.80N    62.65W    A   -  \n",
       "2          55   37.16N   141.09E    A   -  \n",
       "3          64   15.79S    74.47W    A   -  \n",
       "4         179   36.36N    71.45E    M   -  "
      ]
     },
     "execution_count": 3,
     "metadata": {},
     "output_type": "execute_result"
    }
   ],
   "source": [
    "df = pd.read_excel(\"earthquake_dataset.xlsx\")\n",
    "df.head()"
   ]
  },
  {
   "cell_type": "code",
   "execution_count": 5,
   "metadata": {},
   "outputs": [
    {
     "data": {
      "text/plain": [
       "Date          datetime64[ns]\n",
       "Time (utc)            object\n",
       "Region                object\n",
       "Magnitude            float64\n",
       "Depth (km)             int64\n",
       "Latitude              object\n",
       "Longitude             object\n",
       "Mode                  object\n",
       "Map                   object\n",
       "dtype: object"
      ]
     },
     "execution_count": 5,
     "metadata": {},
     "output_type": "execute_result"
    }
   ],
   "source": [
    "df.dtypes"
   ]
  },
  {
   "cell_type": "code",
   "execution_count": 6,
   "metadata": {},
   "outputs": [
    {
     "data": {
      "text/plain": [
       "Date           2671\n",
       "Time (utc)    13344\n",
       "Region         3206\n",
       "Magnitude        77\n",
       "Depth (km)      601\n",
       "Latitude       5504\n",
       "Longitude      6697\n",
       "Mode              2\n",
       "Map               1\n",
       "dtype: int64"
      ]
     },
     "execution_count": 6,
     "metadata": {},
     "output_type": "execute_result"
    }
   ],
   "source": [
    "df.nunique()"
   ]
  },
  {
   "cell_type": "markdown",
   "metadata": {},
   "source": [
    "### Data Cleaning"
   ]
  },
  {
   "cell_type": "code",
   "execution_count": null,
   "metadata": {},
   "outputs": [],
   "source": []
  }
 ],
 "metadata": {
  "kernelspec": {
   "display_name": "Python 3",
   "language": "python",
   "name": "python3"
  },
  "language_info": {
   "codemirror_mode": {
    "name": "ipython",
    "version": 3
   },
   "file_extension": ".py",
   "mimetype": "text/x-python",
   "name": "python",
   "nbconvert_exporter": "python",
   "pygments_lexer": "ipython3",
   "version": "3.9.6"
  }
 },
 "nbformat": 4,
 "nbformat_minor": 2
}

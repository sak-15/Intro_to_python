{
 "cells": [
  {
   "cell_type": "markdown",
   "metadata": {},
   "source": [
    "# Financial Analysis and Portfolio Optimization Project\n"
   ]
  },
  {
   "cell_type": "markdown",
   "metadata": {},
   "source": [
    "\n",
    "## Project Introduction\n",
    "\n",
    "This project focuses on financial data analysis and portfolio optimization for selected assets. \n",
    "By leveraging historical price data, sentiment analysis, and advanced optimization techniques, \n",
    "we aim to construct a well-diversified portfolio and assess its risk under various market scenarios.\n",
    "\n",
    "### Objectives:\n",
    "1. Explore and analyze historical financial data for insights into market trends.\n",
    "2. Assess asset correlations to aid in effective diversification.\n",
    "3. Incorporate sentiment data to refine expected returns.\n",
    "4. Optimize portfolio weights using mean-variance optimization.\n",
    "5. Evaluate portfolio performance using risk metrics and stress testing.\n",
    "\n",
    "---\n",
    "\n",
    "### Steps Performed in the Notebook:\n",
    "1. **Data Collection and Preprocessing**:\n",
    "   - Fetch historical price data for selected assets using Yahoo Finance.\n",
    "   - Handle missing data and calculate daily returns.\n",
    "\n",
    "2. **Exploratory Data Analysis (EDA)**:\n",
    "   - Visualize trends in historical prices.\n",
    "   - Analyze the distribution of daily returns and calculate correlations between assets.\n",
    "\n",
    "3. **Sentiment Analysis**:\n",
    "   - Retrieve sentiment scores using the VADER sentiment analyzer.\n",
    "   - Integrate sentiment data into expected returns for portfolio optimization.\n",
    "\n",
    "4. **Portfolio Diversification**:\n",
    "   - Use mean-variance optimization to determine optimal portfolio weights.\n",
    "   - Visualize the optimized allocation of assets.\n",
    "\n",
    "5. **Risk Management**:\n",
    "   - Calculate Value at Risk (VaR) and simulate market stress scenarios to evaluate portfolio robustness.\n",
    "\n",
    "6. **Strategy Development**:\n",
    "   - Implement a rebalancing strategy to improve portfolio performance over time.\n",
    "\n",
    "7. **Ethical and Practical Considerations**:\n",
    "   - Address challenges in data quality, transaction costs, and other real-world constraints.\n",
    "   - Suggest improvements for future research and implementation.\n",
    "\n",
    "---\n",
    "\n",
    "### Let's dive into the analysis and insights!\n",
    "\n"
   ]
  },
  {
   "cell_type": "markdown",
   "metadata": {},
   "source": [
    "#### Imports"
   ]
  },
  {
   "cell_type": "code",
   "execution_count": 2,
   "metadata": {},
   "outputs": [
    {
     "name": "stdout",
     "output_type": "stream",
     "text": [
      "5\n"
     ]
    }
   ],
   "source": [
    "list = [2,13,12,9,6,3,2]\n",
    "\n",
    "minSum = int('inf')\n",
    "\n",
    "list.sort()\n",
    "\n",
    "for i in range(1, len(list)-1):\n",
    "    if abs(list[i]-list[i-1]) < abs(list[i]-list[i+1]):\n",
    "        minSum+=abs(list[i]-list[i-1])\n",
    "        \n",
    "\n",
    "\n",
    "diff.remove(max(diff))\n",
    "\n"
   ]
  },
  {
   "cell_type": "markdown",
   "metadata": {},
   "source": []
  },
  {
   "cell_type": "code",
   "execution_count": null,
   "metadata": {},
   "outputs": [],
   "source": [
    "min_sum = float('inf')  # Initialize with a large value\n",
    "    \n",
    "for i in range(len(arr)):\n",
    "    # Create a new array excluding the i-th element\n",
    "    excluded_array = arr[:i] + arr[i+1:]\n",
    "\n",
    "    # Calculate the sum of absolute differences for this excluded array\n",
    "    pair_sum = 0\n",
    "    for j in range(0, len(excluded_array) - 1, 2):\n",
    "        pair_sum += abs(excluded_array[j] - excluded_array[j+1])\n",
    "    \n",
    "    # Update the minimum sum\n",
    "    min_sum = min(min_sum, pair_sum)\n",
    "\n",
    "return min_sum"
   ]
  }
 ],
 "metadata": {
  "kernelspec": {
   "display_name": "Python 3",
   "language": "python",
   "name": "python3"
  },
  "language_info": {
   "codemirror_mode": {
    "name": "ipython",
    "version": 3
   },
   "file_extension": ".py",
   "mimetype": "text/x-python",
   "name": "python",
   "nbconvert_exporter": "python",
   "pygments_lexer": "ipython3",
   "version": "3.9.6"
  }
 },
 "nbformat": 4,
 "nbformat_minor": 2
}

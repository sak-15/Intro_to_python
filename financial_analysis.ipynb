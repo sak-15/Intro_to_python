{
 "cells": [
  {
   "cell_type": "markdown",
   "metadata": {},
   "source": [
    "# Financial Analysis Using Python"
   ]
  },
  {
   "cell_type": "markdown",
   "metadata": {},
   "source": [
    "##### This analysis aims to assess the financial performance of XYZ Company using its balance sheet and income statement data for the years 2022 and 2023. Through this project, we will classify and clean financial data, calculate key financial ratios, and visualize critical metrics to gain insights into the company's operational efficiency, profitability, and financial stability. The primary focus will be on understanding trends in assets, liabilities, equity, and profitability. We will also compute key financial ratios, including Return on Equity (ROE), EBIT Margin, and Working Capital Turnover, to analyze the company’s efficiency in utilizing its resources.\n",
    "\n",
    "##### The analysis is divided into the following steps:\n",
    "\n",
    "###### -Data preparation and classification using Excel.\n",
    "###### -Loading, cleaning, and processing data in Python.\n",
    "###### -Visualizing balance sheet items and financial metrics.\n",
    "###### -Performing ratio analysis to evaluate company performance in 2022 and 2023.\n",
    "###### -Comparative analysis of key financial metrics across two years.\n",
    "\n",
    "###### Each section of the notebook will include both calculations and interpretative analysis to provide a clear understanding of the company’s financial health."
   ]
  },
  {
   "cell_type": "markdown",
   "metadata": {},
   "source": [
    "### Imports"
   ]
  },
  {
   "cell_type": "code",
   "execution_count": 91,
   "metadata": {},
   "outputs": [],
   "source": [
    "import pandas as pd\n",
    "import numpy as np\n",
    "import matplotlib.pyplot as plt"
   ]
  },
  {
   "cell_type": "markdown",
   "metadata": {},
   "source": [
    "### Data Preparation and Cleaning"
   ]
  },
  {
   "cell_type": "code",
   "execution_count": 92,
   "metadata": {},
   "outputs": [],
   "source": [
    "# Defining the constants\n",
    "TAX_RATE_2022 = 0.2090\n",
    "TAX_RATE_2023 = 0.1930\n",
    "OPERATIONAL_CASH_PROPORTION = 0.20\n"
   ]
  },
  {
   "cell_type": "code",
   "execution_count": 93,
   "metadata": {},
   "outputs": [],
   "source": [
    "# Load all sheets from Excel into separate DataFrames\n",
    "excel_file_path = \"Rapports Nestlé_students.xlsx\"\n",
    "sheets = pd.read_excel(excel_file_path, sheet_name=None)\n",
    "\n",
    "# Accessing individual sheets as DataFrames\n",
    "income_statement = sheets['Income statements']\n",
    "other_trading_and_operating_profit_item = sheets['Other trading & op inc. - exp.']\n",
    "financial_profit_items = sheets['Financial inc. - exp.']\n",
    "trade_and_other_payable_items = sheets['Trade & other payables']\n",
    "ppe_items = sheets['Property, plant & equipement']\n",
    "balance_sheet = sheets['Balance sheet']"
   ]
  },
  {
   "cell_type": "code",
   "execution_count": 94,
   "metadata": {},
   "outputs": [],
   "source": [
    "# Remove rows with missing titles and those without relevant data.\n",
    "income_statement = income_statement.dropna()\n",
    "other_trading_and_operating_profit_item = other_trading_and_operating_profit_item.dropna()\n",
    "financial_profit_items = financial_profit_items.dropna()\n",
    "trade_and_other_payable_items = trade_and_other_payable_items.dropna()\n",
    "ppe_items = ppe_items.dropna()\n",
    "balance_sheet = balance_sheet.dropna()\n"
   ]
  },
  {
   "cell_type": "code",
   "execution_count": null,
   "metadata": {},
   "outputs": [],
   "source": [
    "# Compute Averages: Calculate the average for each DataFrame, using the end-of-year values for 2022 and 2023.\n",
    "income_statement['Average2022_23'] = income_statement[['2022','2023']].mean(axis =1)\n",
    "other_trading_and_operating_profit_item['Average2022_23'] = other_trading_and_operating_profit_item[['2022', '2023']].mean(axis=1)\n",
    "financial_profit_items['Average2022_23'] = financial_profit_items[['2022', '2023']].mean(axis=1)\n",
    "trade_and_other_payable_items['Average2022_23'] = trade_and_other_payable_items[['2022', '2023']].mean(axis=1)\n",
    "ppe_items['Average2022_23'] = ppe_items[['2022', '2023']].mean(axis=1)\n",
    "balance_sheet['Average2022_23'] = balance_sheet[['2022', '2023']].mean(axis=1)"
   ]
  },
  {
   "cell_type": "code",
   "execution_count": 96,
   "metadata": {},
   "outputs": [],
   "source": [
    "# Set Index: Use item labels as the index for each DataFrame for easier reference and analysis.\n",
    "income_statement.set_index('Income statement item', inplace=True)\n",
    "other_trading_and_operating_profit_item.set_index('Other trading and operating profit item', inplace=True)\n",
    "financial_profit_items.set_index('Financial profit items', inplace=True)\n",
    "trade_and_other_payable_items.set_index('Trade & other payables items', inplace=True)\n",
    "ppe_items.set_index('P,P & E items', inplace=True)\n",
    "balance_sheet.set_index('Balance sheet item', inplace=True)"
   ]
  },
  {
   "cell_type": "markdown",
   "metadata": {},
   "source": [
    "### Data Visualization"
   ]
  },
  {
   "cell_type": "code",
   "execution_count": null,
   "metadata": {},
   "outputs": [],
   "source": [
    "import matplotlib.pyplot as plt\n",
    "import seaborn as sns\n",
    "\n",
    "# Plot Assets vs Liabilities\n",
    "plt.figure(figsize=(10, 6))\n",
    "balance_sheet[['Asset', 'Liabilities']].plot(kind='bar', stacked=True)\n",
    "plt.title(\"Balance Sheet Comparison\")\n",
    "plt.show()\n"
   ]
  },
  {
   "cell_type": "code",
   "execution_count": 100,
   "metadata": {},
   "outputs": [
    {
     "data": {
      "text/html": [
       "<div>\n",
       "<style scoped>\n",
       "    .dataframe tbody tr th:only-of-type {\n",
       "        vertical-align: middle;\n",
       "    }\n",
       "\n",
       "    .dataframe tbody tr th {\n",
       "        vertical-align: top;\n",
       "    }\n",
       "\n",
       "    .dataframe thead th {\n",
       "        text-align: right;\n",
       "    }\n",
       "</style>\n",
       "<table border=\"1\" class=\"dataframe\">\n",
       "  <thead>\n",
       "    <tr style=\"text-align: right;\">\n",
       "      <th></th>\n",
       "      <th>2023</th>\n",
       "      <th>2022</th>\n",
       "      <th>2021</th>\n",
       "      <th>Average2022_23</th>\n",
       "    </tr>\n",
       "    <tr>\n",
       "      <th>Trade &amp; other payables items</th>\n",
       "      <th></th>\n",
       "      <th></th>\n",
       "      <th></th>\n",
       "      <th></th>\n",
       "    </tr>\n",
       "  </thead>\n",
       "  <tbody>\n",
       "    <tr>\n",
       "      <th>Trade payables</th>\n",
       "      <td>14195.0</td>\n",
       "      <td>15798.0</td>\n",
       "      <td>15625.0</td>\n",
       "      <td>14996.5</td>\n",
       "    </tr>\n",
       "    <tr>\n",
       "      <th>Social security and sundry taxes and levies</th>\n",
       "      <td>1665.0</td>\n",
       "      <td>1766.0</td>\n",
       "      <td>1872.0</td>\n",
       "      <td>1715.5</td>\n",
       "    </tr>\n",
       "    <tr>\n",
       "      <th>Other payables</th>\n",
       "      <td>3344.0</td>\n",
       "      <td>2959.0</td>\n",
       "      <td>3410.0</td>\n",
       "      <td>3151.5</td>\n",
       "    </tr>\n",
       "    <tr>\n",
       "      <th>Total</th>\n",
       "      <td>19204.0</td>\n",
       "      <td>20523.0</td>\n",
       "      <td>20907.0</td>\n",
       "      <td>19863.5</td>\n",
       "    </tr>\n",
       "  </tbody>\n",
       "</table>\n",
       "</div>"
      ],
      "text/plain": [
       "                                                2023     2022     2021  \\\n",
       "Trade & other payables items                                             \n",
       "Trade payables                               14195.0  15798.0  15625.0   \n",
       "Social security and sundry taxes and levies   1665.0   1766.0   1872.0   \n",
       "Other payables                                3344.0   2959.0   3410.0   \n",
       "Total                                        19204.0  20523.0  20907.0   \n",
       "\n",
       "                                             Average2022_23  \n",
       "Trade & other payables items                                 \n",
       "Trade payables                                      14996.5  \n",
       "Social security and sundry taxes and levies          1715.5  \n",
       "Other payables                                       3151.5  \n",
       "Total                                               19863.5  "
      ]
     },
     "execution_count": 100,
     "metadata": {},
     "output_type": "execute_result"
    }
   ],
   "source": [
    "trade_and_other_payable_items.head()"
   ]
  },
  {
   "cell_type": "markdown",
   "metadata": {},
   "source": [
    "# 1. Working Capital Turnover Ratio\n"
   ]
  },
  {
   "cell_type": "code",
   "execution_count": null,
   "metadata": {},
   "outputs": [],
   "source": [
    "\n",
    "# Method 1: Direct Calculation\n",
    "def working_capital_turnover_direct(revenue, operating_working_capital):\n",
    "    return revenue / operating_working_capital\n",
    "\n",
    "# Method 2: Using Components\n",
    "def working_capital_turnover_components(revenue, accounts_receivable, inventory, accounts_payable):\n",
    "    operating_working_capital = accounts_receivable + inventory - accounts_payable\n",
    "    return revenue / operating_working_capital\n"
   ]
  },
  {
   "cell_type": "markdown",
   "metadata": {},
   "source": [
    "# 2. Invested Capital Turnover"
   ]
  },
  {
   "cell_type": "code",
   "execution_count": null,
   "metadata": {},
   "outputs": [],
   "source": [
    "# Method 1: Direct Calculation\n",
    "def invested_capital_turnover_direct(revenue, invested_capital):\n",
    "    return revenue / invested_capital\n",
    "\n",
    "# Method 2: Using Components\n",
    "def invested_capital_turnover_components(revenue, ppe, goodwill, intangible_assets, other_non_current_assets):\n",
    "    invested_capital = ppe + goodwill + intangible_assets + other_non_current_assets\n",
    "    return revenue / invested_capital"
   ]
  },
  {
   "cell_type": "markdown",
   "metadata": {},
   "source": [
    "# 3. EBIT Margin"
   ]
  },
  {
   "cell_type": "code",
   "execution_count": null,
   "metadata": {},
   "outputs": [],
   "source": [
    "# Method 1: Direct Calculation\n",
    "def ebit_margin_direct(ebit, revenue):\n",
    "    return ebit / revenue\n",
    "\n",
    "# Method 2: Using Components\n",
    "def ebit_margin_components(gross_profit, sga_expenses, revenue):\n",
    "    ebit = gross_profit - sga_expenses\n",
    "    return ebit / revenue"
   ]
  },
  {
   "cell_type": "markdown",
   "metadata": {},
   "source": [
    "# 4. NOPAT Margin"
   ]
  },
  {
   "cell_type": "code",
   "execution_count": null,
   "metadata": {},
   "outputs": [],
   "source": [
    "# Method 1: Using EBIT Margin and Tax Rate\n",
    "def nopat_margin_direct(ebit_margin, tax_rate):\n",
    "    return ebit_margin * (1 - tax_rate)\n",
    "\n",
    "# Method 2: Using Breakdown of Operating Components\n",
    "def nopat_margin_components(ebit, tax_rate):\n",
    "    nopat = ebit * (1 - tax_rate)\n",
    "    return nopat"
   ]
  },
  {
   "cell_type": "markdown",
   "metadata": {},
   "source": [
    "# 5. Return on Invested Capital (ROIC)"
   ]
  },
  {
   "cell_type": "code",
   "execution_count": null,
   "metadata": {},
   "outputs": [],
   "source": [
    "# Method 1: Direct Calculation\n",
    "def roic_direct(nopat, invested_capital):\n",
    "    return nopat / invested_capital\n",
    "\n",
    "# Method 2: Using NOPAT Margin and Invested Capital Turnover\n",
    "def roic_components(nopat_margin, invested_capital_turnover):\n",
    "    return nopat_margin * invested_capital_turnover"
   ]
  },
  {
   "cell_type": "markdown",
   "metadata": {},
   "source": [
    "# 6. Return on Non-Operating Assets After Tax"
   ]
  },
  {
   "cell_type": "code",
   "execution_count": null,
   "metadata": {},
   "outputs": [],
   "source": [
    "# Method 1: Using Interest Income Directly\n",
    "def return_non_operating_assets_direct(interest_income, tax_rate):\n",
    "    return interest_income * (1 - tax_rate)\n",
    "\n",
    "# Method 2: Decompose Returns\n",
    "def return_non_operating_assets_components(non_operating_income, tax_rate):\n",
    "    return non_operating_income * (1 - tax_rate)"
   ]
  },
  {
   "cell_type": "markdown",
   "metadata": {},
   "source": [
    "# 7. Cost of Debt After Tax"
   ]
  },
  {
   "cell_type": "code",
   "execution_count": null,
   "metadata": {},
   "outputs": [],
   "source": [
    "# Method 1: Using Interest Expenses and Tax Rate\n",
    "def cost_of_debt_after_tax_direct(interest_expense, total_debt, tax_rate):\n",
    "    return (interest_expense / total_debt) * (1 - tax_rate)\n",
    "\n",
    "# Method 2: Decompose into Interest and Debt Costs\n",
    "def cost_of_debt_after_tax_components(interest_expense, other_debt_related_costs, total_debt, tax_rate):\n",
    "    total_interest_costs = interest_expense + other_debt_related_costs\n",
    "    return (total_interest_costs / total_debt) * (1 - tax_rate)"
   ]
  },
  {
   "cell_type": "markdown",
   "metadata": {},
   "source": [
    "# 8. Return on Equity (ROE)"
   ]
  },
  {
   "cell_type": "code",
   "execution_count": null,
   "metadata": {},
   "outputs": [],
   "source": [
    "# Method 1: Direct Calculation\n",
    "def roe_direct(net_income, shareholders_equity):\n",
    "    return net_income / shareholders_equity\n",
    "\n",
    "# Method 2: Decompose into Components\n",
    "def roe_components(net_income, total_assets, total_debt, shareholders_equity):\n",
    "    return_on_assets = net_income / total_assets\n",
    "    cost_of_debt = total_debt / total_assets\n",
    "    financial_leverage = total_assets / shareholders_equity\n",
    "    return return_on_assets * (1 - cost_of_debt) * financial_leverage"
   ]
  }
 ],
 "metadata": {
  "kernelspec": {
   "display_name": "Python 3",
   "language": "python",
   "name": "python3"
  },
  "language_info": {
   "codemirror_mode": {
    "name": "ipython",
    "version": 3
   },
   "file_extension": ".py",
   "mimetype": "text/x-python",
   "name": "python",
   "nbconvert_exporter": "python",
   "pygments_lexer": "ipython3",
   "version": "3.12.7"
  }
 },
 "nbformat": 4,
 "nbformat_minor": 2
}

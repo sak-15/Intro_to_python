{
 "cells": [
  {
   "cell_type": "markdown",
   "metadata": {},
   "source": [
    "# Financial Analysis Using Python"
   ]
  },
  {
   "cell_type": "markdown",
   "metadata": {},
   "source": [
    "### Imports"
   ]
  },
  {
   "cell_type": "code",
   "execution_count": 58,
   "metadata": {},
   "outputs": [],
   "source": [
    "import pandas as pd\n",
    "import numpy as np\n",
    "import matplotlib.pyplot as plt"
   ]
  },
  {
   "cell_type": "markdown",
   "metadata": {},
   "source": [
    "### Data Preparation and Cleaning"
   ]
  },
  {
   "cell_type": "code",
   "execution_count": 59,
   "metadata": {},
   "outputs": [],
   "source": [
    "# Defining the constants\n",
    "TAX_RATE_2022 = 0.2090\n",
    "TAX_RATE_2023 = 0.1930\n",
    "OPERATIONAL_CASH_PROPORTION = 0.20\n"
   ]
  },
  {
   "cell_type": "code",
   "execution_count": 60,
   "metadata": {},
   "outputs": [],
   "source": [
    "# Load all sheets from Excel into separate DataFrames\n",
    "excel_file_path = \"Rapports Nestlé_students.xlsx\"\n",
    "sheets = pd.read_excel(excel_file_path, sheet_name=None)\n",
    "\n",
    "# Accessing individual sheets as DataFrames\n",
    "income_statement = sheets['Income statements']\n",
    "other_trading_and_operating_profit_item = sheets['Other trading & op inc. - exp.']\n",
    "financial_profit_items = sheets['Financial inc. - exp.']\n",
    "trade_and_other_payable_items = sheets['Trade & other payables']\n",
    "ppe_items = sheets['Property, plant & equipement']\n",
    "balance_sheet = sheets['Balance sheet']"
   ]
  },
  {
   "cell_type": "code",
   "execution_count": 61,
   "metadata": {},
   "outputs": [
    {
     "data": {
      "text/html": [
       "<div>\n",
       "<style scoped>\n",
       "    .dataframe tbody tr th:only-of-type {\n",
       "        vertical-align: middle;\n",
       "    }\n",
       "\n",
       "    .dataframe tbody tr th {\n",
       "        vertical-align: top;\n",
       "    }\n",
       "\n",
       "    .dataframe thead th {\n",
       "        text-align: right;\n",
       "    }\n",
       "</style>\n",
       "<table border=\"1\" class=\"dataframe\">\n",
       "  <thead>\n",
       "    <tr style=\"text-align: right;\">\n",
       "      <th></th>\n",
       "      <th>Other trading and operating profit item</th>\n",
       "      <th>2023</th>\n",
       "      <th>2022</th>\n",
       "      <th>2021</th>\n",
       "    </tr>\n",
       "  </thead>\n",
       "  <tbody>\n",
       "    <tr>\n",
       "      <th>0</th>\n",
       "      <td>4.1 Net other trading income/(expenses)</td>\n",
       "      <td>NaN</td>\n",
       "      <td>NaN</td>\n",
       "      <td>NaN</td>\n",
       "    </tr>\n",
       "    <tr>\n",
       "      <th>1</th>\n",
       "      <td>In millions of CHF</td>\n",
       "      <td>NaN</td>\n",
       "      <td>NaN</td>\n",
       "      <td>NaN</td>\n",
       "    </tr>\n",
       "    <tr>\n",
       "      <th>2</th>\n",
       "      <td>Other trading income</td>\n",
       "      <td>132.0</td>\n",
       "      <td>107.0</td>\n",
       "      <td>171.0</td>\n",
       "    </tr>\n",
       "    <tr>\n",
       "      <th>3</th>\n",
       "      <td>NaN</td>\n",
       "      <td>NaN</td>\n",
       "      <td>NaN</td>\n",
       "      <td>NaN</td>\n",
       "    </tr>\n",
       "    <tr>\n",
       "      <th>4</th>\n",
       "      <td>Restructuring costs</td>\n",
       "      <td>-723.0</td>\n",
       "      <td>-273.0</td>\n",
       "      <td>-311.0</td>\n",
       "    </tr>\n",
       "  </tbody>\n",
       "</table>\n",
       "</div>"
      ],
      "text/plain": [
       "   Other trading and operating profit item   2023   2022   2021\n",
       "0  4.1 Net other trading income/(expenses)    NaN    NaN    NaN\n",
       "1                       In millions of CHF    NaN    NaN    NaN\n",
       "2                     Other trading income  132.0  107.0  171.0\n",
       "3                                      NaN    NaN    NaN    NaN\n",
       "4                      Restructuring costs -723.0 -273.0 -311.0"
      ]
     },
     "execution_count": 61,
     "metadata": {},
     "output_type": "execute_result"
    }
   ],
   "source": [
    "other_trading_and_operating_profit_item.head()"
   ]
  },
  {
   "cell_type": "code",
   "execution_count": 62,
   "metadata": {},
   "outputs": [],
   "source": [
    "#Remove rows with missing titles and those without relevant data.\n",
    "income_statement = income_statement.dropna()\n",
    "other_trading_and_operating_profit_item = other_trading_and_operating_profit_item.dropna()\n",
    "financial_profit_items = financial_profit_items.dropna()\n",
    "trade_and_other_payable_items = trade_and_other_payable_items.dropna()\n",
    "ppe_items = ppe_items.dropna()\n",
    "balance_sheet = balance_sheet.dropna()\n"
   ]
  },
  {
   "cell_type": "code",
   "execution_count": 63,
   "metadata": {},
   "outputs": [
    {
     "name": "stderr",
     "output_type": "stream",
     "text": [
      "/var/folders/r_/2_0342f92rb7w06qdsctf01c0000gn/T/ipykernel_40330/3091592353.py:1: SettingWithCopyWarning: \n",
      "A value is trying to be set on a copy of a slice from a DataFrame.\n",
      "Try using .loc[row_indexer,col_indexer] = value instead\n",
      "\n",
      "See the caveats in the documentation: https://pandas.pydata.org/pandas-docs/stable/user_guide/indexing.html#returning-a-view-versus-a-copy\n",
      "  income_statement['Average2022_23'] = income_statement[['2022','2023']].mean(axis =1)\n",
      "/var/folders/r_/2_0342f92rb7w06qdsctf01c0000gn/T/ipykernel_40330/3091592353.py:2: SettingWithCopyWarning: \n",
      "A value is trying to be set on a copy of a slice from a DataFrame.\n",
      "Try using .loc[row_indexer,col_indexer] = value instead\n",
      "\n",
      "See the caveats in the documentation: https://pandas.pydata.org/pandas-docs/stable/user_guide/indexing.html#returning-a-view-versus-a-copy\n",
      "  other_trading_and_operating_profit_item['Average2022_23'] = other_trading_and_operating_profit_item[['2022', '2023']].mean(axis=1)\n",
      "/var/folders/r_/2_0342f92rb7w06qdsctf01c0000gn/T/ipykernel_40330/3091592353.py:3: SettingWithCopyWarning: \n",
      "A value is trying to be set on a copy of a slice from a DataFrame.\n",
      "Try using .loc[row_indexer,col_indexer] = value instead\n",
      "\n",
      "See the caveats in the documentation: https://pandas.pydata.org/pandas-docs/stable/user_guide/indexing.html#returning-a-view-versus-a-copy\n",
      "  financial_profit_items['Average2022_23'] = financial_profit_items[['2022', '2023']].mean(axis=1)\n",
      "/var/folders/r_/2_0342f92rb7w06qdsctf01c0000gn/T/ipykernel_40330/3091592353.py:4: SettingWithCopyWarning: \n",
      "A value is trying to be set on a copy of a slice from a DataFrame.\n",
      "Try using .loc[row_indexer,col_indexer] = value instead\n",
      "\n",
      "See the caveats in the documentation: https://pandas.pydata.org/pandas-docs/stable/user_guide/indexing.html#returning-a-view-versus-a-copy\n",
      "  trade_and_other_payable_items['Average2022_23'] = trade_and_other_payable_items[['2022', '2023']].mean(axis=1)\n",
      "/var/folders/r_/2_0342f92rb7w06qdsctf01c0000gn/T/ipykernel_40330/3091592353.py:6: SettingWithCopyWarning: \n",
      "A value is trying to be set on a copy of a slice from a DataFrame.\n",
      "Try using .loc[row_indexer,col_indexer] = value instead\n",
      "\n",
      "See the caveats in the documentation: https://pandas.pydata.org/pandas-docs/stable/user_guide/indexing.html#returning-a-view-versus-a-copy\n",
      "  balance_sheet['Average2022_23'] = balance_sheet[['2022', '2023']].mean(axis=1)\n"
     ]
    }
   ],
   "source": [
    "income_statement['Average2022_23'] = income_statement[['2022','2023']].mean(axis =1)\n",
    "other_trading_and_operating_profit_item['Average2022_23'] = other_trading_and_operating_profit_item[['2022', '2023']].mean(axis=1)\n",
    "financial_profit_items['Average2022_23'] = financial_profit_items[['2022', '2023']].mean(axis=1)\n",
    "trade_and_other_payable_items['Average2022_23'] = trade_and_other_payable_items[['2022', '2023']].mean(axis=1)\n",
    "ppe_items['Average2022_23'] = ppe_items[['2022', '2023']].mean(axis=1)\n",
    "balance_sheet['Average2022_23'] = balance_sheet[['2022', '2023']].mean(axis=1)"
   ]
  },
  {
   "cell_type": "code",
   "execution_count": null,
   "metadata": {},
   "outputs": [],
   "source": []
  }
 ],
 "metadata": {
  "kernelspec": {
   "display_name": "Python 3",
   "language": "python",
   "name": "python3"
  },
  "language_info": {
   "codemirror_mode": {
    "name": "ipython",
    "version": 3
   },
   "file_extension": ".py",
   "mimetype": "text/x-python",
   "name": "python",
   "nbconvert_exporter": "python",
   "pygments_lexer": "ipython3",
   "version": "3.12.7"
  }
 },
 "nbformat": 4,
 "nbformat_minor": 2
}

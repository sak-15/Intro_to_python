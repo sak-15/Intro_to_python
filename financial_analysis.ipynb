{
 "cells": [
  {
   "cell_type": "markdown",
   "metadata": {},
   "source": [
    "# Financial Analysis Using Python"
   ]
  },
  {
   "cell_type": "markdown",
   "metadata": {},
   "source": [
    "##### This analysis aims to assess the financial performance of XYZ Company using its balance sheet and income statement data for the years 2022 and 2023. Through this project, we will classify and clean financial data, calculate key financial ratios, and visualize critical metrics to gain insights into the company's operational efficiency, profitability, and financial stability. The primary focus will be on understanding trends in assets, liabilities, equity, and profitability. We will also compute key financial ratios, including Return on Equity (ROE), EBIT Margin, and Working Capital Turnover, to analyze the company’s efficiency in utilizing its resources.\n",
    "\n",
    "##### The analysis is divided into the following steps:\n",
    "\n",
    "###### -Data preparation and classification using Excel.\n",
    "###### -Loading, cleaning, and processing data in Python.\n",
    "###### -Visualizing balance sheet items and financial metrics.\n",
    "###### -Performing ratio analysis to evaluate company performance in 2022 and 2023.\n",
    "###### -Comparative analysis of key financial metrics across two years.\n",
    "\n",
    "###### Each section of the notebook will include both calculations and interpretative analysis to provide a clear understanding of the company’s financial health."
   ]
  },
  {
   "cell_type": "markdown",
   "metadata": {},
   "source": [
    "### Imports"
   ]
  },
  {
   "cell_type": "code",
   "execution_count": 91,
   "metadata": {},
   "outputs": [],
   "source": [
    "import pandas as pd\n",
    "import numpy as np\n",
    "import matplotlib.pyplot as plt"
   ]
  },
  {
   "cell_type": "markdown",
   "metadata": {},
   "source": [
    "### Data Preparation and Cleaning"
   ]
  },
  {
   "cell_type": "code",
   "execution_count": 92,
   "metadata": {},
   "outputs": [],
   "source": [
    "# Defining the constants\n",
    "TAX_RATE_2022 = 0.2090\n",
    "TAX_RATE_2023 = 0.1930\n",
    "OPERATIONAL_CASH_PROPORTION = 0.20\n"
   ]
  },
  {
   "cell_type": "code",
   "execution_count": 93,
   "metadata": {},
   "outputs": [],
   "source": [
    "# Load all sheets from Excel into separate DataFrames\n",
    "excel_file_path = \"Rapports Nestlé_students.xlsx\"\n",
    "sheets = pd.read_excel(excel_file_path, sheet_name=None)\n",
    "\n",
    "# Accessing individual sheets as DataFrames\n",
    "income_statement = sheets['Income statements']\n",
    "other_trading_and_operating_profit_item = sheets['Other trading & op inc. - exp.']\n",
    "financial_profit_items = sheets['Financial inc. - exp.']\n",
    "trade_and_other_payable_items = sheets['Trade & other payables']\n",
    "ppe_items = sheets['Property, plant & equipement']\n",
    "balance_sheet = sheets['Balance sheet']"
   ]
  },
  {
   "cell_type": "code",
   "execution_count": 94,
   "metadata": {},
   "outputs": [],
   "source": [
    "# Remove rows with missing titles and those without relevant data.\n",
    "income_statement = income_statement.dropna()\n",
    "other_trading_and_operating_profit_item = other_trading_and_operating_profit_item.dropna()\n",
    "financial_profit_items = financial_profit_items.dropna()\n",
    "trade_and_other_payable_items = trade_and_other_payable_items.dropna()\n",
    "ppe_items = ppe_items.dropna()\n",
    "balance_sheet = balance_sheet.dropna()\n"
   ]
  },
  {
   "cell_type": "code",
   "execution_count": null,
   "metadata": {},
   "outputs": [],
   "source": [
    "# Compute Averages: Calculate the average for each DataFrame, using the end-of-year values for 2022 and 2023.\n",
    "income_statement['Average2022_23'] = income_statement[['2022','2023']].mean(axis =1)\n",
    "other_trading_and_operating_profit_item['Average2022_23'] = other_trading_and_operating_profit_item[['2022', '2023']].mean(axis=1)\n",
    "financial_profit_items['Average2022_23'] = financial_profit_items[['2022', '2023']].mean(axis=1)\n",
    "trade_and_other_payable_items['Average2022_23'] = trade_and_other_payable_items[['2022', '2023']].mean(axis=1)\n",
    "ppe_items['Average2022_23'] = ppe_items[['2022', '2023']].mean(axis=1)\n",
    "balance_sheet['Average2022_23'] = balance_sheet[['2022', '2023']].mean(axis=1)"
   ]
  },
  {
   "cell_type": "code",
   "execution_count": 96,
   "metadata": {},
   "outputs": [],
   "source": [
    "# Set Index: Use item labels as the index for each DataFrame for easier reference and analysis.\n",
    "income_statement.set_index('Income statement item', inplace=True)\n",
    "other_trading_and_operating_profit_item.set_index('Other trading and operating profit item', inplace=True)\n",
    "financial_profit_items.set_index('Financial profit items', inplace=True)\n",
    "trade_and_other_payable_items.set_index('Trade & other payables items', inplace=True)\n",
    "ppe_items.set_index('P,P & E items', inplace=True)\n",
    "balance_sheet.set_index('Balance sheet item', inplace=True)"
   ]
  },
  {
   "cell_type": "markdown",
   "metadata": {},
   "source": [
    "### Data Visualization"
   ]
  },
  {
   "cell_type": "code",
   "execution_count": null,
   "metadata": {},
   "outputs": [],
   "source": [
    "import matplotlib.pyplot as plt\n",
    "import seaborn as sns\n",
    "\n",
    "# Plot Assets vs Liabilities\n",
    "plt.figure(figsize=(10, 6))\n",
    "balance_sheet[['Asset', 'Liabilities']].plot(kind='bar', stacked=True)\n",
    "plt.title(\"Balance Sheet Comparison\")\n",
    "plt.show()\n"
   ]
  },
  {
   "cell_type": "code",
   "execution_count": null,
   "metadata": {},
   "outputs": [],
   "source": []
  }
 ],
 "metadata": {
  "kernelspec": {
   "display_name": "Python 3",
   "language": "python",
   "name": "python3"
  },
  "language_info": {
   "codemirror_mode": {
    "name": "ipython",
    "version": 3
   },
   "file_extension": ".py",
   "mimetype": "text/x-python",
   "name": "python",
   "nbconvert_exporter": "python",
   "pygments_lexer": "ipython3",
   "version": "3.12.7"
  }
 },
 "nbformat": 4,
 "nbformat_minor": 2
}
